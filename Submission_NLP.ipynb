{
  "nbformat": 4,
  "nbformat_minor": 0,
  "metadata": {
    "colab": {
      "name": "Submission NLP",
      "provenance": []
    },
    "kernelspec": {
      "name": "python3",
      "display_name": "Python 3"
    },
    "language_info": {
      "name": "python"
    }
  },
  "cells": [
    {
      "cell_type": "markdown",
      "metadata": {
        "id": "7LEIZW0ATMCa"
      },
      "source": [
        "**Izdiharti Noni Pertiwi** \n",
        "\n",
        "> dataset : movie genre data\n",
        "\n",
        "> Sumber kaggle : https://www.kaggle.com/lokkagle/movie-genre-data\n",
        "\n",
        "\n",
        "\n"
      ]
    },
    {
      "cell_type": "code",
      "metadata": {
        "colab": {
          "base_uri": "https://localhost:8080/"
        },
        "id": "Y84_CoHvGGg5",
        "outputId": "5467d782-7142-4735-8229-17d2489e30fb"
      },
      "source": [
        "from google.colab import drive\n",
        "drive.mount('/content/gdrive')"
      ],
      "execution_count": 1,
      "outputs": [
        {
          "output_type": "stream",
          "text": [
            "Mounted at /content/gdrive\n"
          ],
          "name": "stdout"
        }
      ]
    },
    {
      "cell_type": "code",
      "metadata": {
        "id": "3SZS23JuGRR_"
      },
      "source": [
        "#import pandas\n",
        "import pandas as pd"
      ],
      "execution_count": 1,
      "outputs": []
    },
    {
      "cell_type": "code",
      "metadata": {
        "colab": {
          "base_uri": "https://localhost:8080/",
          "height": 359
        },
        "id": "Ul1k_aDJH61q",
        "outputId": "c8d9fa23-7e3e-4fa7-8b58-5152360477b5"
      },
      "source": [
        "df = pd.read_csv(\"/content/drive/MyDrive/Submission1/kaggle_movie_train.csv\")\n",
        "df.head(10)"
      ],
      "execution_count": 2,
      "outputs": [
        {
          "output_type": "execute_result",
          "data": {
            "text/html": [
              "<div>\n",
              "<style scoped>\n",
              "    .dataframe tbody tr th:only-of-type {\n",
              "        vertical-align: middle;\n",
              "    }\n",
              "\n",
              "    .dataframe tbody tr th {\n",
              "        vertical-align: top;\n",
              "    }\n",
              "\n",
              "    .dataframe thead th {\n",
              "        text-align: right;\n",
              "    }\n",
              "</style>\n",
              "<table border=\"1\" class=\"dataframe\">\n",
              "  <thead>\n",
              "    <tr style=\"text-align: right;\">\n",
              "      <th></th>\n",
              "      <th>id</th>\n",
              "      <th>text</th>\n",
              "      <th>genre</th>\n",
              "    </tr>\n",
              "  </thead>\n",
              "  <tbody>\n",
              "    <tr>\n",
              "      <th>0</th>\n",
              "      <td>0</td>\n",
              "      <td>eady dead, maybe even wishing he was. INT. 2ND...</td>\n",
              "      <td>thriller</td>\n",
              "    </tr>\n",
              "    <tr>\n",
              "      <th>1</th>\n",
              "      <td>2</td>\n",
              "      <td>t, summa cum laude and all. And I'm about to l...</td>\n",
              "      <td>comedy</td>\n",
              "    </tr>\n",
              "    <tr>\n",
              "      <th>2</th>\n",
              "      <td>3</td>\n",
              "      <td>up Come, I have a surprise.... She takes him ...</td>\n",
              "      <td>drama</td>\n",
              "    </tr>\n",
              "    <tr>\n",
              "      <th>3</th>\n",
              "      <td>4</td>\n",
              "      <td>ded by the two detectives. INT. JEFF'S APARTME...</td>\n",
              "      <td>thriller</td>\n",
              "    </tr>\n",
              "    <tr>\n",
              "      <th>4</th>\n",
              "      <td>5</td>\n",
              "      <td>nd dismounts, just as the other children reach...</td>\n",
              "      <td>drama</td>\n",
              "    </tr>\n",
              "    <tr>\n",
              "      <th>5</th>\n",
              "      <td>6</td>\n",
              "      <td>breadth of the bluff. Gabe pulls out his ancie...</td>\n",
              "      <td>thriller</td>\n",
              "    </tr>\n",
              "    <tr>\n",
              "      <th>6</th>\n",
              "      <td>7</td>\n",
              "      <td>uilding. A MAN in pajamas runs out into the ra...</td>\n",
              "      <td>thriller</td>\n",
              "    </tr>\n",
              "    <tr>\n",
              "      <th>7</th>\n",
              "      <td>9</td>\n",
              "      <td>ELLES AND RITA HAYWORTH Just disgustingly rich...</td>\n",
              "      <td>drama</td>\n",
              "    </tr>\n",
              "    <tr>\n",
              "      <th>8</th>\n",
              "      <td>10</td>\n",
              "      <td>Memphis goes back into the garage, Budgy cack...</td>\n",
              "      <td>thriller</td>\n",
              "    </tr>\n",
              "    <tr>\n",
              "      <th>9</th>\n",
              "      <td>11</td>\n",
              "      <td>e reels as the world spins. Sweat pours off hi...</td>\n",
              "      <td>action</td>\n",
              "    </tr>\n",
              "  </tbody>\n",
              "</table>\n",
              "</div>"
            ],
            "text/plain": [
              "   id                                               text     genre\n",
              "0   0  eady dead, maybe even wishing he was. INT. 2ND...  thriller\n",
              "1   2  t, summa cum laude and all. And I'm about to l...    comedy\n",
              "2   3   up Come, I have a surprise.... She takes him ...     drama\n",
              "3   4  ded by the two detectives. INT. JEFF'S APARTME...  thriller\n",
              "4   5  nd dismounts, just as the other children reach...     drama\n",
              "5   6  breadth of the bluff. Gabe pulls out his ancie...  thriller\n",
              "6   7  uilding. A MAN in pajamas runs out into the ra...  thriller\n",
              "7   9  ELLES AND RITA HAYWORTH Just disgustingly rich...     drama\n",
              "8  10   Memphis goes back into the garage, Budgy cack...  thriller\n",
              "9  11  e reels as the world spins. Sweat pours off hi...    action"
            ]
          },
          "metadata": {
            "tags": []
          },
          "execution_count": 2
        }
      ]
    },
    {
      "cell_type": "code",
      "metadata": {
        "colab": {
          "base_uri": "https://localhost:8080/"
        },
        "id": "tre8NRWzLyAc",
        "outputId": "4277e249-c831-4ee7-c5d2-b9b6eb910fef"
      },
      "source": [
        "#data columns\n",
        "df.columns"
      ],
      "execution_count": 3,
      "outputs": [
        {
          "output_type": "execute_result",
          "data": {
            "text/plain": [
              "Index(['id', 'text', 'genre'], dtype='object')"
            ]
          },
          "metadata": {
            "tags": []
          },
          "execution_count": 3
        }
      ]
    },
    {
      "cell_type": "code",
      "metadata": {
        "colab": {
          "base_uri": "https://localhost:8080/"
        },
        "id": "GZc3694lL1U4",
        "outputId": "b1ed51ac-82c7-473b-a0a9-94e91b4d4d58"
      },
      "source": [
        "#total data\n",
        "df.shape"
      ],
      "execution_count": 4,
      "outputs": [
        {
          "output_type": "execute_result",
          "data": {
            "text/plain": [
              "(22579, 3)"
            ]
          },
          "metadata": {
            "tags": []
          },
          "execution_count": 4
        }
      ]
    },
    {
      "cell_type": "code",
      "metadata": {
        "colab": {
          "base_uri": "https://localhost:8080/"
        },
        "id": "6CHVZXQ_L3yX",
        "outputId": "1577fa53-566b-4d21-a919-cb6c39aae365"
      },
      "source": [
        "# info data\n",
        "df.info()"
      ],
      "execution_count": 5,
      "outputs": [
        {
          "output_type": "stream",
          "text": [
            "<class 'pandas.core.frame.DataFrame'>\n",
            "RangeIndex: 22579 entries, 0 to 22578\n",
            "Data columns (total 3 columns):\n",
            " #   Column  Non-Null Count  Dtype \n",
            "---  ------  --------------  ----- \n",
            " 0   id      22579 non-null  int64 \n",
            " 1   text    22579 non-null  object\n",
            " 2   genre   22579 non-null  object\n",
            "dtypes: int64(1), object(2)\n",
            "memory usage: 529.3+ KB\n"
          ],
          "name": "stdout"
        }
      ]
    },
    {
      "cell_type": "code",
      "metadata": {
        "colab": {
          "base_uri": "https://localhost:8080/"
        },
        "id": "NOR-1AbUMIBk",
        "outputId": "ff63d901-b9ef-4b98-8853-3f8d6fbbe42a"
      },
      "source": [
        "#categories genre\n",
        "df.genre.value_counts()"
      ],
      "execution_count": 6,
      "outputs": [
        {
          "output_type": "execute_result",
          "data": {
            "text/plain": [
              "drama        8873\n",
              "thriller     6824\n",
              "comedy       2941\n",
              "action       2392\n",
              "sci-fi        613\n",
              "horror        456\n",
              "other         270\n",
              "adventure     147\n",
              "romance        63\n",
              "Name: genre, dtype: int64"
            ]
          },
          "metadata": {
            "tags": []
          },
          "execution_count": 6
        }
      ]
    },
    {
      "cell_type": "code",
      "metadata": {
        "colab": {
          "base_uri": "https://localhost:8080/",
          "height": 419
        },
        "id": "L1ruT_UYQYVp",
        "outputId": "162d2e60-c4a3-47c0-d0bc-8529f8049097"
      },
      "source": [
        "# delete columns (unused column)\n",
        "DF=df.drop(columns=['id'])\n",
        "DF"
      ],
      "execution_count": 7,
      "outputs": [
        {
          "output_type": "execute_result",
          "data": {
            "text/html": [
              "<div>\n",
              "<style scoped>\n",
              "    .dataframe tbody tr th:only-of-type {\n",
              "        vertical-align: middle;\n",
              "    }\n",
              "\n",
              "    .dataframe tbody tr th {\n",
              "        vertical-align: top;\n",
              "    }\n",
              "\n",
              "    .dataframe thead th {\n",
              "        text-align: right;\n",
              "    }\n",
              "</style>\n",
              "<table border=\"1\" class=\"dataframe\">\n",
              "  <thead>\n",
              "    <tr style=\"text-align: right;\">\n",
              "      <th></th>\n",
              "      <th>text</th>\n",
              "      <th>genre</th>\n",
              "    </tr>\n",
              "  </thead>\n",
              "  <tbody>\n",
              "    <tr>\n",
              "      <th>0</th>\n",
              "      <td>eady dead, maybe even wishing he was. INT. 2ND...</td>\n",
              "      <td>thriller</td>\n",
              "    </tr>\n",
              "    <tr>\n",
              "      <th>1</th>\n",
              "      <td>t, summa cum laude and all. And I'm about to l...</td>\n",
              "      <td>comedy</td>\n",
              "    </tr>\n",
              "    <tr>\n",
              "      <th>2</th>\n",
              "      <td>up Come, I have a surprise.... She takes him ...</td>\n",
              "      <td>drama</td>\n",
              "    </tr>\n",
              "    <tr>\n",
              "      <th>3</th>\n",
              "      <td>ded by the two detectives. INT. JEFF'S APARTME...</td>\n",
              "      <td>thriller</td>\n",
              "    </tr>\n",
              "    <tr>\n",
              "      <th>4</th>\n",
              "      <td>nd dismounts, just as the other children reach...</td>\n",
              "      <td>drama</td>\n",
              "    </tr>\n",
              "    <tr>\n",
              "      <th>...</th>\n",
              "      <td>...</td>\n",
              "      <td>...</td>\n",
              "    </tr>\n",
              "    <tr>\n",
              "      <th>22574</th>\n",
              "      <td>n in the world to decide what I'm going to do ...</td>\n",
              "      <td>drama</td>\n",
              "    </tr>\n",
              "    <tr>\n",
              "      <th>22575</th>\n",
              "      <td>shards. BOJO LAZ! Laz pushes Deke back through...</td>\n",
              "      <td>drama</td>\n",
              "    </tr>\n",
              "    <tr>\n",
              "      <th>22576</th>\n",
              "      <td>OTTIE You've got a thing about Ernie's, haven'...</td>\n",
              "      <td>thriller</td>\n",
              "    </tr>\n",
              "    <tr>\n",
              "      <th>22577</th>\n",
              "      <td>....with marked skill and dexterity . LANA wry...</td>\n",
              "      <td>action</td>\n",
              "    </tr>\n",
              "    <tr>\n",
              "      <th>22578</th>\n",
              "      <td>rd walks off down the hallway, leaving his pos...</td>\n",
              "      <td>comedy</td>\n",
              "    </tr>\n",
              "  </tbody>\n",
              "</table>\n",
              "<p>22579 rows × 2 columns</p>\n",
              "</div>"
            ],
            "text/plain": [
              "                                                    text     genre\n",
              "0      eady dead, maybe even wishing he was. INT. 2ND...  thriller\n",
              "1      t, summa cum laude and all. And I'm about to l...    comedy\n",
              "2       up Come, I have a surprise.... She takes him ...     drama\n",
              "3      ded by the two detectives. INT. JEFF'S APARTME...  thriller\n",
              "4      nd dismounts, just as the other children reach...     drama\n",
              "...                                                  ...       ...\n",
              "22574  n in the world to decide what I'm going to do ...     drama\n",
              "22575  shards. BOJO LAZ! Laz pushes Deke back through...     drama\n",
              "22576  OTTIE You've got a thing about Ernie's, haven'...  thriller\n",
              "22577  ....with marked skill and dexterity . LANA wry...    action\n",
              "22578  rd walks off down the hallway, leaving his pos...    comedy\n",
              "\n",
              "[22579 rows x 2 columns]"
            ]
          },
          "metadata": {
            "tags": []
          },
          "execution_count": 7
        }
      ]
    },
    {
      "cell_type": "code",
      "metadata": {
        "colab": {
          "base_uri": "https://localhost:8080/"
        },
        "id": "E7q8R-6KMV56",
        "outputId": "816309f1-74e4-4b54-eacc-20d0d431dada"
      },
      "source": [
        "# Menghapus genre selain 5 genre tersebut\n",
        "DF = DF[~DF['genre'].isin(['drama','thriller','other','adventure','romance'])]\n",
        "DF['genre'].value_counts()"
      ],
      "execution_count": 8,
      "outputs": [
        {
          "output_type": "execute_result",
          "data": {
            "text/plain": [
              "comedy    2941\n",
              "action    2392\n",
              "sci-fi     613\n",
              "horror     456\n",
              "Name: genre, dtype: int64"
            ]
          },
          "metadata": {
            "tags": []
          },
          "execution_count": 8
        }
      ]
    },
    {
      "cell_type": "code",
      "metadata": {
        "colab": {
          "base_uri": "https://localhost:8080/",
          "height": 419
        },
        "id": "EVTqZE8NOysF",
        "outputId": "c90f5508-699e-4113-89a1-b018213c2f78"
      },
      "source": [
        "category = pd.get_dummies(DF.genre)\n",
        "DF = pd.concat([DF, category], axis=1)\n",
        "DF = DF.drop(columns='genre')\n",
        "DF"
      ],
      "execution_count": 9,
      "outputs": [
        {
          "output_type": "execute_result",
          "data": {
            "text/html": [
              "<div>\n",
              "<style scoped>\n",
              "    .dataframe tbody tr th:only-of-type {\n",
              "        vertical-align: middle;\n",
              "    }\n",
              "\n",
              "    .dataframe tbody tr th {\n",
              "        vertical-align: top;\n",
              "    }\n",
              "\n",
              "    .dataframe thead th {\n",
              "        text-align: right;\n",
              "    }\n",
              "</style>\n",
              "<table border=\"1\" class=\"dataframe\">\n",
              "  <thead>\n",
              "    <tr style=\"text-align: right;\">\n",
              "      <th></th>\n",
              "      <th>text</th>\n",
              "      <th>action</th>\n",
              "      <th>comedy</th>\n",
              "      <th>horror</th>\n",
              "      <th>sci-fi</th>\n",
              "    </tr>\n",
              "  </thead>\n",
              "  <tbody>\n",
              "    <tr>\n",
              "      <th>1</th>\n",
              "      <td>t, summa cum laude and all. And I'm about to l...</td>\n",
              "      <td>0</td>\n",
              "      <td>1</td>\n",
              "      <td>0</td>\n",
              "      <td>0</td>\n",
              "    </tr>\n",
              "    <tr>\n",
              "      <th>9</th>\n",
              "      <td>e reels as the world spins. Sweat pours off hi...</td>\n",
              "      <td>1</td>\n",
              "      <td>0</td>\n",
              "      <td>0</td>\n",
              "      <td>0</td>\n",
              "    </tr>\n",
              "    <tr>\n",
              "      <th>20</th>\n",
              "      <td>I say he's a man who'll go far. Some people s...</td>\n",
              "      <td>0</td>\n",
              "      <td>1</td>\n",
              "      <td>0</td>\n",
              "      <td>0</td>\n",
              "    </tr>\n",
              "    <tr>\n",
              "      <th>25</th>\n",
              "      <td>you find out where the bachelor party is? COLE...</td>\n",
              "      <td>0</td>\n",
              "      <td>1</td>\n",
              "      <td>0</td>\n",
              "      <td>0</td>\n",
              "    </tr>\n",
              "    <tr>\n",
              "      <th>29</th>\n",
              "      <td>ibly horrendous public break up on the quad. A...</td>\n",
              "      <td>0</td>\n",
              "      <td>1</td>\n",
              "      <td>0</td>\n",
              "      <td>0</td>\n",
              "    </tr>\n",
              "    <tr>\n",
              "      <th>...</th>\n",
              "      <td>...</td>\n",
              "      <td>...</td>\n",
              "      <td>...</td>\n",
              "      <td>...</td>\n",
              "      <td>...</td>\n",
              "    </tr>\n",
              "    <tr>\n",
              "      <th>22566</th>\n",
              "      <td>BUT THEN YOU KNEW THAT. Inhaling some bliss, S...</td>\n",
              "      <td>1</td>\n",
              "      <td>0</td>\n",
              "      <td>0</td>\n",
              "      <td>0</td>\n",
              "    </tr>\n",
              "    <tr>\n",
              "      <th>22569</th>\n",
              "      <td>d Cricket running down road. DISSOLVE TO 53. E...</td>\n",
              "      <td>0</td>\n",
              "      <td>0</td>\n",
              "      <td>0</td>\n",
              "      <td>1</td>\n",
              "    </tr>\n",
              "    <tr>\n",
              "      <th>22573</th>\n",
              "      <td>Well hello, officer. WYDELL holding up his ba...</td>\n",
              "      <td>0</td>\n",
              "      <td>0</td>\n",
              "      <td>1</td>\n",
              "      <td>0</td>\n",
              "    </tr>\n",
              "    <tr>\n",
              "      <th>22577</th>\n",
              "      <td>....with marked skill and dexterity . LANA wry...</td>\n",
              "      <td>1</td>\n",
              "      <td>0</td>\n",
              "      <td>0</td>\n",
              "      <td>0</td>\n",
              "    </tr>\n",
              "    <tr>\n",
              "      <th>22578</th>\n",
              "      <td>rd walks off down the hallway, leaving his pos...</td>\n",
              "      <td>0</td>\n",
              "      <td>1</td>\n",
              "      <td>0</td>\n",
              "      <td>0</td>\n",
              "    </tr>\n",
              "  </tbody>\n",
              "</table>\n",
              "<p>6402 rows × 5 columns</p>\n",
              "</div>"
            ],
            "text/plain": [
              "                                                    text  ...  sci-fi\n",
              "1      t, summa cum laude and all. And I'm about to l...  ...       0\n",
              "9      e reels as the world spins. Sweat pours off hi...  ...       0\n",
              "20      I say he's a man who'll go far. Some people s...  ...       0\n",
              "25     you find out where the bachelor party is? COLE...  ...       0\n",
              "29     ibly horrendous public break up on the quad. A...  ...       0\n",
              "...                                                  ...  ...     ...\n",
              "22566  BUT THEN YOU KNEW THAT. Inhaling some bliss, S...  ...       0\n",
              "22569  d Cricket running down road. DISSOLVE TO 53. E...  ...       1\n",
              "22573   Well hello, officer. WYDELL holding up his ba...  ...       0\n",
              "22577  ....with marked skill and dexterity . LANA wry...  ...       0\n",
              "22578  rd walks off down the hallway, leaving his pos...  ...       0\n",
              "\n",
              "[6402 rows x 5 columns]"
            ]
          },
          "metadata": {
            "tags": []
          },
          "execution_count": 9
        }
      ]
    },
    {
      "cell_type": "code",
      "metadata": {
        "id": "awI6BhFGSM1N"
      },
      "source": [
        "# Mengubah tipe data menjadi str dan numpy array \n",
        "text = DF['text'].astype(str)\n",
        "label = DF[['action', 'comedy','horror','sci-fi']].values"
      ],
      "execution_count": 14,
      "outputs": []
    },
    {
      "cell_type": "code",
      "metadata": {
        "id": "t2YqgllpSvXH"
      },
      "source": [
        "from sklearn.model_selection import train_test_split\n",
        "text_latih, text_test, label_latih, label_test = train_test_split(text, label, test_size=0.2)"
      ],
      "execution_count": 15,
      "outputs": []
    },
    {
      "cell_type": "code",
      "metadata": {
        "id": "_032mt_xUcXJ"
      },
      "source": [
        "from tensorflow.keras.preprocessing.text import Tokenizer\n",
        "from tensorflow.keras.preprocessing.sequence import pad_sequences\n",
        " \n",
        "tokenizer = Tokenizer(num_words=5000, oov_token='x')\n",
        "tokenizer.fit_on_texts(text_latih) \n",
        "tokenizer.fit_on_texts(text_test)\n",
        " \n",
        "sekuens_latih = tokenizer.texts_to_sequences(text_latih)\n",
        "sekuens_test = tokenizer.texts_to_sequences(text_test)\n",
        " \n",
        "padded_latih = pad_sequences(sekuens_latih) \n",
        "padded_test = pad_sequences(sekuens_test)"
      ],
      "execution_count": 16,
      "outputs": []
    },
    {
      "cell_type": "code",
      "metadata": {
        "colab": {
          "base_uri": "https://localhost:8080/"
        },
        "id": "mmY5qZluUzn5",
        "outputId": "e1720600-d2aa-4076-8115-e237bdffbf24"
      },
      "source": [
        "import tensorflow as tf\n",
        "from tensorflow.keras.preprocessing.text import Tokenizer\n",
        "from tensorflow.keras.preprocessing.sequence import pad_sequences\n",
        "from tensorflow.keras.layers import LSTM,Dense,Embedding,Dropout\n",
        "from tensorflow.keras.models import Sequential\n",
        "from tensorflow.keras.optimizers import Adam\n",
        "model = Sequential([\n",
        "    Embedding(input_dim=5000, output_dim=16),\n",
        "    LSTM(64),\n",
        "    Dense(128, activation='relu'),\n",
        "    Dropout(0.5),\n",
        "    Dense(4, activation='softmax')\n",
        "])\n",
        "Adam(learning_rate=0.00146, name='Adam')\n",
        "model.compile(optimizer = 'Adam',loss = 'categorical_crossentropy',metrics = ['accuracy'])\n",
        "model.summary()"
      ],
      "execution_count": 24,
      "outputs": [
        {
          "output_type": "stream",
          "text": [
            "Model: \"sequential_1\"\n",
            "_________________________________________________________________\n",
            "Layer (type)                 Output Shape              Param #   \n",
            "=================================================================\n",
            "embedding_1 (Embedding)      (None, None, 16)          80000     \n",
            "_________________________________________________________________\n",
            "lstm_1 (LSTM)                (None, 64)                20736     \n",
            "_________________________________________________________________\n",
            "dense_3 (Dense)              (None, 128)               8320      \n",
            "_________________________________________________________________\n",
            "dropout (Dropout)            (None, 128)               0         \n",
            "_________________________________________________________________\n",
            "dense_4 (Dense)              (None, 4)                 516       \n",
            "=================================================================\n",
            "Total params: 109,572\n",
            "Trainable params: 109,572\n",
            "Non-trainable params: 0\n",
            "_________________________________________________________________\n"
          ],
          "name": "stdout"
        }
      ]
    },
    {
      "cell_type": "code",
      "metadata": {
        "id": "e1bdZG59VAZ2"
      },
      "source": [
        "# callback\n",
        "class myCallback(tf.keras.callbacks.Callback):\n",
        "  def on_epoch_end(self, epoch, logs={}):\n",
        "    if(logs.get('accuracy')>0.9 and logs.get('val_accuracy')>0.9):\n",
        "      self.model.stop_training = True\n",
        "      print(\"\\nThe accuracy of the training set and the validation set has reached > 90%!\")\n",
        "callbacks = myCallback()"
      ],
      "execution_count": 25,
      "outputs": []
    },
    {
      "cell_type": "code",
      "metadata": {
        "colab": {
          "base_uri": "https://localhost:8080/"
        },
        "id": "zqbJRn25lajm",
        "outputId": "aecb910e-e4e3-4621-a65e-c8a5da3cdee3"
      },
      "source": [
        "num_epochs = 50\n",
        "history = model.fit(padded_latih, label_latih, epochs=num_epochs, \n",
        "                    validation_data=(padded_test, label_test), verbose=2, callbacks=[callbacks])"
      ],
      "execution_count": 26,
      "outputs": [
        {
          "output_type": "stream",
          "text": [
            "Epoch 1/50\n",
            "161/161 - 23s - loss: 1.1359 - accuracy: 0.4575 - val_loss: 0.9762 - val_accuracy: 0.6151\n",
            "Epoch 2/50\n",
            "161/161 - 20s - loss: 0.7307 - accuracy: 0.7137 - val_loss: 1.0367 - val_accuracy: 0.6706\n",
            "Epoch 3/50\n",
            "161/161 - 20s - loss: 0.5703 - accuracy: 0.7893 - val_loss: 0.7148 - val_accuracy: 0.7494\n",
            "Epoch 4/50\n",
            "161/161 - 20s - loss: 0.4433 - accuracy: 0.8338 - val_loss: 0.5608 - val_accuracy: 0.7869\n",
            "Epoch 5/50\n",
            "161/161 - 20s - loss: 0.2851 - accuracy: 0.8873 - val_loss: 0.5514 - val_accuracy: 0.7955\n",
            "Epoch 6/50\n",
            "161/161 - 20s - loss: 0.1904 - accuracy: 0.9125 - val_loss: 0.5238 - val_accuracy: 0.8189\n",
            "Epoch 7/50\n",
            "161/161 - 20s - loss: 0.1464 - accuracy: 0.9264 - val_loss: 0.4768 - val_accuracy: 0.8415\n",
            "Epoch 8/50\n",
            "161/161 - 20s - loss: 0.2820 - accuracy: 0.8875 - val_loss: 1.2792 - val_accuracy: 0.3911\n",
            "Epoch 9/50\n",
            "161/161 - 20s - loss: 0.6990 - accuracy: 0.7223 - val_loss: 0.9490 - val_accuracy: 0.7518\n",
            "Epoch 10/50\n",
            "161/161 - 20s - loss: 0.2425 - accuracy: 0.9028 - val_loss: 0.4784 - val_accuracy: 0.8290\n",
            "Epoch 11/50\n",
            "161/161 - 20s - loss: 0.1592 - accuracy: 0.9274 - val_loss: 0.4698 - val_accuracy: 0.8275\n",
            "Epoch 12/50\n",
            "161/161 - 20s - loss: 0.1407 - accuracy: 0.9338 - val_loss: 0.5193 - val_accuracy: 0.8454\n",
            "Epoch 13/50\n",
            "161/161 - 20s - loss: 0.1120 - accuracy: 0.9455 - val_loss: 0.5058 - val_accuracy: 0.8626\n",
            "Epoch 14/50\n",
            "161/161 - 20s - loss: 0.1053 - accuracy: 0.9529 - val_loss: 0.5746 - val_accuracy: 0.8478\n",
            "Epoch 15/50\n",
            "161/161 - 20s - loss: 0.0797 - accuracy: 0.9713 - val_loss: 0.5410 - val_accuracy: 0.8447\n",
            "Epoch 16/50\n",
            "161/161 - 20s - loss: 0.0698 - accuracy: 0.9793 - val_loss: 0.7235 - val_accuracy: 0.8368\n",
            "Epoch 17/50\n",
            "161/161 - 20s - loss: 0.0693 - accuracy: 0.9744 - val_loss: 0.7212 - val_accuracy: 0.7814\n",
            "Epoch 18/50\n",
            "161/161 - 20s - loss: 0.0589 - accuracy: 0.9781 - val_loss: 0.6874 - val_accuracy: 0.8478\n",
            "Epoch 19/50\n",
            "161/161 - 20s - loss: 0.0369 - accuracy: 0.9893 - val_loss: 0.7183 - val_accuracy: 0.8587\n",
            "Epoch 20/50\n",
            "161/161 - 20s - loss: 0.0265 - accuracy: 0.9920 - val_loss: 0.8630 - val_accuracy: 0.8212\n",
            "Epoch 21/50\n",
            "161/161 - 20s - loss: 0.3865 - accuracy: 0.8723 - val_loss: 0.5178 - val_accuracy: 0.8447\n",
            "Epoch 22/50\n",
            "161/161 - 20s - loss: 0.0574 - accuracy: 0.9850 - val_loss: 0.6066 - val_accuracy: 0.8486\n",
            "Epoch 23/50\n",
            "161/161 - 20s - loss: 0.0320 - accuracy: 0.9928 - val_loss: 0.5435 - val_accuracy: 0.8556\n",
            "Epoch 24/50\n",
            "161/161 - 21s - loss: 0.0153 - accuracy: 0.9969 - val_loss: 0.6307 - val_accuracy: 0.8564\n",
            "Epoch 25/50\n",
            "161/161 - 20s - loss: 0.0302 - accuracy: 0.9920 - val_loss: 0.5586 - val_accuracy: 0.8767\n",
            "Epoch 26/50\n",
            "161/161 - 20s - loss: 0.0114 - accuracy: 0.9979 - val_loss: 0.6152 - val_accuracy: 0.8782\n",
            "Epoch 27/50\n",
            "161/161 - 20s - loss: 0.0027 - accuracy: 0.9998 - val_loss: 0.6339 - val_accuracy: 0.8813\n",
            "Epoch 28/50\n",
            "161/161 - 20s - loss: 0.0041 - accuracy: 0.9988 - val_loss: 0.6454 - val_accuracy: 0.8735\n",
            "Epoch 29/50\n",
            "161/161 - 21s - loss: 0.0035 - accuracy: 0.9994 - val_loss: 0.7960 - val_accuracy: 0.8509\n",
            "Epoch 30/50\n",
            "161/161 - 21s - loss: 0.0409 - accuracy: 0.9889 - val_loss: 0.7172 - val_accuracy: 0.8642\n",
            "Epoch 31/50\n",
            "161/161 - 21s - loss: 0.0161 - accuracy: 0.9959 - val_loss: 0.7253 - val_accuracy: 0.8657\n",
            "Epoch 32/50\n",
            "161/161 - 21s - loss: 0.0202 - accuracy: 0.9949 - val_loss: 0.7004 - val_accuracy: 0.8743\n",
            "Epoch 33/50\n",
            "161/161 - 20s - loss: 0.0522 - accuracy: 0.9887 - val_loss: 0.7024 - val_accuracy: 0.8509\n",
            "Epoch 34/50\n",
            "161/161 - 20s - loss: 0.0093 - accuracy: 0.9980 - val_loss: 0.6734 - val_accuracy: 0.8657\n",
            "Epoch 35/50\n",
            "161/161 - 20s - loss: 0.0028 - accuracy: 0.9998 - val_loss: 0.6873 - val_accuracy: 0.8720\n",
            "Epoch 36/50\n",
            "161/161 - 20s - loss: 7.1512e-04 - accuracy: 1.0000 - val_loss: 0.7246 - val_accuracy: 0.8743\n",
            "Epoch 37/50\n",
            "161/161 - 20s - loss: 0.0564 - accuracy: 0.9814 - val_loss: 0.8922 - val_accuracy: 0.7283\n",
            "Epoch 38/50\n",
            "161/161 - 20s - loss: 0.0458 - accuracy: 0.9854 - val_loss: 0.8982 - val_accuracy: 0.8173\n",
            "Epoch 39/50\n",
            "161/161 - 20s - loss: 0.0244 - accuracy: 0.9941 - val_loss: 0.6356 - val_accuracy: 0.8868\n",
            "Epoch 40/50\n",
            "161/161 - 20s - loss: 0.0217 - accuracy: 0.9953 - val_loss: 0.7396 - val_accuracy: 0.8665\n",
            "Epoch 41/50\n",
            "161/161 - 21s - loss: 0.1169 - accuracy: 0.9668 - val_loss: 0.5983 - val_accuracy: 0.8509\n",
            "Epoch 42/50\n",
            "161/161 - 21s - loss: 0.0327 - accuracy: 0.9904 - val_loss: 0.6741 - val_accuracy: 0.8704\n",
            "Epoch 43/50\n",
            "161/161 - 20s - loss: 0.0043 - accuracy: 0.9994 - val_loss: 0.6064 - val_accuracy: 0.8931\n",
            "Epoch 44/50\n",
            "161/161 - 20s - loss: 0.0152 - accuracy: 0.9959 - val_loss: 0.7114 - val_accuracy: 0.8681\n",
            "Epoch 45/50\n",
            "161/161 - 20s - loss: 0.0033 - accuracy: 0.9990 - val_loss: 0.6432 - val_accuracy: 0.8962\n",
            "Epoch 46/50\n",
            "161/161 - 20s - loss: 5.0335e-04 - accuracy: 1.0000 - val_loss: 0.6545 - val_accuracy: 0.8954\n",
            "Epoch 47/50\n",
            "161/161 - 20s - loss: 3.8019e-04 - accuracy: 1.0000 - val_loss: 0.6688 - val_accuracy: 0.8993\n",
            "Epoch 48/50\n",
            "161/161 - 20s - loss: 2.7863e-04 - accuracy: 1.0000 - val_loss: 0.6747 - val_accuracy: 0.9048\n",
            "\n",
            "The accuracy of the training set and the validation set has reached > 90%!\n"
          ],
          "name": "stdout"
        }
      ]
    },
    {
      "cell_type": "code",
      "metadata": {
        "colab": {
          "base_uri": "https://localhost:8080/",
          "height": 295
        },
        "id": "uV2aJazJcf9n",
        "outputId": "681b0c64-9a34-4cab-922d-138bdd8f630e"
      },
      "source": [
        "import matplotlib.pyplot as plt\n",
        "plt.plot(history.history['accuracy'])\n",
        "plt.plot(history.history['val_accuracy'])\n",
        "plt.title('Akurasi Model')\n",
        "plt.ylabel('accuracy')\n",
        "plt.xlabel('epoch')\n",
        "plt.legend(['train', 'test'], loc='upper left')\n",
        "plt.show()"
      ],
      "execution_count": 27,
      "outputs": [
        {
          "output_type": "display_data",
          "data": {
            "image/png": "[encoded data removed]",
            "text/plain": [
              "<Figure size 432x288 with 1 Axes>"
            ]
          },
          "metadata": {
            "tags": [],
            "needs_background": "light"
          }
        }
      ]
    },
    {
      "cell_type": "code",
      "metadata": {
        "colab": {
          "base_uri": "https://localhost:8080/",
          "height": 295
        },
        "id": "jUHi9VC2ckkF",
        "outputId": "37acc8c6-5bcb-4b03-ef88-462cbfdff091"
      },
      "source": [
        "plt.plot(history.history['loss'])\n",
        "plt.plot(history.history['val_loss'])\n",
        "plt.title('Loss Model')\n",
        "plt.ylabel('loss')\n",
        "plt.xlabel('epoch')\n",
        "plt.legend(['train', 'test'], loc='upper left')\n",
        "plt.show()"
      ],
      "execution_count": 28,
      "outputs": [
        {
          "output_type": "display_data",
          "data": {
            "image/png": "[encoded data removed]",
            "text/plain": [
              "<Figure size 432x288 with 1 Axes>"
            ]
          },
          "metadata": {
            "tags": [],
            "needs_background": "light"
          }
        }
      ]
    }
  ]
}